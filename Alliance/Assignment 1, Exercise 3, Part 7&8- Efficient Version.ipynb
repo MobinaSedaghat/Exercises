{
 "cells": [
  {
   "cell_type": "code",
   "execution_count": 39,
   "id": "34b7d4d7",
   "metadata": {},
   "outputs": [],
   "source": [
    "import numpy as np\n",
    "# import time as time"
   ]
  },
  {
   "cell_type": "code",
   "execution_count": 40,
   "id": "34fd4b33",
   "metadata": {},
   "outputs": [],
   "source": [
    "def Rdecomp (MD, OD):\n",
    "    alpha=np.ones(len(MD))\n",
    "    beta=np.ones(len(OD))\n",
    "    alpha[0]=(MD[0])**0.5\n",
    "#     tic=time.time()\n",
    "    for i in range(len(OD)):\n",
    "        beta[i]= OD[i]/alpha[i]\n",
    "        alpha[i+1] = (MD[i+1]-beta[i]**2)**0.5\n",
    "#     toc=time.time()\n",
    "    print('alpha= ', alpha, '\\n', 'beta= ', beta)\n",
    "#     print('time= ', toc-tic)"
   ]
  },
  {
   "cell_type": "code",
   "execution_count": null,
   "id": "3f3ca493",
   "metadata": {},
   "outputs": [],
   "source": [
    "while True:\n",
    "    MD=np.array([int(j) for j in input(\"Enter your positive symetirc definite main diagonal, for instance: 1,2,3,4,...: \\n\").split(',')])\n",
    "    OD=np.array([int(j) for j in input(\"Enter your positive symetirc definite outer diagonal: \\n\").split(',')])\n",
    "#     MD=np.ones(32000000)*32\n",
    "#     OD=np.ones(31999999)*8\n",
    "    if len(MD) == len(OD)+1:\n",
    "        break\n",
    "    else:\n",
    "        print(\"Your given arrays are not valid. Check your input arrays again.\")\n",
    "\n",
    "try:        \n",
    "    Rdecomp(MD, OD)\n",
    "except:\n",
    "    print(\"Given matrix is not posibble to be decomposed to R and R transposed\")"
   ]
  }
 ],
 "metadata": {
  "kernelspec": {
   "display_name": "Python 3",
   "language": "python",
   "name": "python3"
  },
  "language_info": {
   "codemirror_mode": {
    "name": "ipython",
    "version": 3
   },
   "file_extension": ".py",
   "mimetype": "text/x-python",
   "name": "python",
   "nbconvert_exporter": "python",
   "pygments_lexer": "ipython3",
   "version": "3.8.8"
  }
 },
 "nbformat": 4,
 "nbformat_minor": 5
}
