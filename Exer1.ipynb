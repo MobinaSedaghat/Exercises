{
  "nbformat": 4,
  "nbformat_minor": 0,
  "metadata": {
    "colab": {
      "provenance": [],
      "authorship_tag": "ABX9TyPKeWq0xTKmZLSXj/qVwZMU",
      "include_colab_link": true
    },
    "kernelspec": {
      "name": "python3",
      "display_name": "Python 3"
    },
    "language_info": {
      "name": "python"
    }
  },
  "cells": [
    {
      "cell_type": "markdown",
      "metadata": {
        "id": "view-in-github",
        "colab_type": "text"
      },
      "source": [
        "<a href=\"https://colab.research.google.com/github/MobinaSedaghat/Exercises/blob/main/Exer1.ipynb\" target=\"_parent\"><img src=\"https://colab.research.google.com/assets/colab-badge.svg\" alt=\"Open In Colab\"/></a>"
      ]
    },
    {
      "cell_type": "code",
      "execution_count": null,
      "metadata": {
        "id": "_LzKyoU3D0z6"
      },
      "outputs": [],
      "source": [
        "import numpy as np\n",
        "import matplotlib.pyplot as plt\n",
        "import time"
      ]
    },
    {
      "cell_type": "code",
      "source": [
        "X = np.arange(1,21,1, dtype=int)\n",
        "X = X"
      ],
      "metadata": {
        "id": "UeRvls52EBnb"
      },
      "execution_count": null,
      "outputs": []
    },
    {
      "cell_type": "code",
      "source": [
        "def f(X):\n",
        "  return 2* X + 5 + np.random.uniform(0,1,len(X))/10**10\n",
        "Y = f(X)"
      ],
      "metadata": {
        "id": "TSnZJ5BfEC96"
      },
      "execution_count": null,
      "outputs": []
    },
    {
      "cell_type": "markdown",
      "source": [
        "---\n",
        "## **DIRECT**\n",
        "\n",
        "\n",
        "\n",
        "\n",
        "\n"
      ],
      "metadata": {
        "id": "2Kbb_zAdjkYV"
      }
    },
    {
      "cell_type": "code",
      "source": [
        "\n",
        "tic = time.time()\n",
        "new_X = np.vstack([np.ones(len(X)) , X ])\n",
        "B =np.dot(Y,np.linalg.pinv(new_X))\n",
        "toc = time.time()"
      ],
      "metadata": {
        "id": "B4RoPnIZGcPZ"
      },
      "execution_count": null,
      "outputs": []
    },
    {
      "cell_type": "code",
      "source": [
        "print(\"Y = \",B[1] , \"* X +\" , B[0])\n",
        "print (\"Time : \" ,toc - tic)"
      ],
      "metadata": {
        "colab": {
          "base_uri": "https://localhost:8080/"
        },
        "id": "Jr4dAuvlZoac",
        "outputId": "4c84479b-595e-4121-a00a-b93d436e3551"
      },
      "execution_count": null,
      "outputs": [
        {
          "output_type": "stream",
          "name": "stdout",
          "text": [
            "Y =  1.9999999999978513 * X + 5.0000000000752\n",
            "Time :  0.024134397506713867\n"
          ]
        }
      ]
    },
    {
      "cell_type": "code",
      "source": [
        "plt.scatter(X, Y, color = 'red')\n",
        "plt.plot(X , new_X.T.dot(B) , color = 'blue')"
      ],
      "metadata": {
        "colab": {
          "base_uri": "https://localhost:8080/",
          "height": 283
        },
        "id": "M4J3hCtdIMmL",
        "outputId": "edb97343-8118-440b-caad-d3b3be909dd0"
      },
      "execution_count": null,
      "outputs": [
        {
          "output_type": "execute_result",
          "data": {
            "text/plain": [
              "[<matplotlib.lines.Line2D at 0x7f081ba81b90>]"
            ]
          },
          "metadata": {},
          "execution_count": 6
        },
        {
          "output_type": "display_data",
          "data": {
            "image/png": "[encoded data removed]",
            "text/plain": [
              "<Figure size 432x288 with 1 Axes>"
            ]
          },
          "metadata": {
            "needs_background": "light"
          }
        }
      ]
    },
    {
      "cell_type": "markdown",
      "source": [
        "---\n",
        "## **GRADIENT DESCENT**"
      ],
      "metadata": {
        "id": "xhCzZw3DkQeK"
      }
    },
    {
      "cell_type": "code",
      "source": [
        "b1 = 1\n",
        "b0 = 1\n",
        "L = 0.0001\n",
        "itrnum = 100000\n",
        "RSS = 10"
      ],
      "metadata": {
        "id": "aqWSr7Vga8xv"
      },
      "execution_count": null,
      "outputs": []
    },
    {
      "cell_type": "code",
      "source": [
        "for i in range (itrnum):\n",
        "  if RSS < 1 :\n",
        "    break\n",
        "  Y_pred = b1 * X + b0\n",
        "  red = (Y - Y_pred)\n",
        "  RSS =  np.sum(np.square(red))\n",
        "  D_b1 = (-2/len(X)) * sum(X * (Y - Y_pred))\n",
        "  D_b0 = (-2/len(X)) * sum(Y - Y_pred)\n",
        "  b1 = b1 - L * D_b1\n",
        "  b0 = b0 - L * D_b0"
      ],
      "metadata": {
        "id": "IkYGQ56inC6j"
      },
      "execution_count": null,
      "outputs": []
    },
    {
      "cell_type": "code",
      "source": [
        "plt.scatter(X , Y , color = 'red')\n",
        "plt.plot(X , X * b1 + b0 , color = 'blue')"
      ],
      "metadata": {
        "colab": {
          "base_uri": "https://localhost:8080/",
          "height": 283
        },
        "id": "cP8xO36ezOYo",
        "outputId": "fbd3cbee-0daa-4592-a4ea-8ff1ab0cb91d"
      },
      "execution_count": null,
      "outputs": [
        {
          "output_type": "execute_result",
          "data": {
            "text/plain": [
              "[<matplotlib.lines.Line2D at 0x7f040f0c0f90>]"
            ]
          },
          "metadata": {},
          "execution_count": 1237
        },
        {
          "output_type": "display_data",
          "data": {
            "image/png": "[encoded data removed]",
            "text/plain": [
              "<Figure size 432x288 with 1 Axes>"
            ]
          },
          "metadata": {
            "needs_background": "light"
          }
        }
      ]
    },
    {
      "cell_type": "markdown",
      "source": [
        "---\n",
        "## **SCI-KIT LEARN**"
      ],
      "metadata": {
        "id": "fteQoXJO9iZ7"
      }
    },
    {
      "cell_type": "code",
      "source": [
        "X = X.reshape(20,1)\n",
        "Y = Y.reshape(20,1)"
      ],
      "metadata": {
        "id": "v_o6d1s4oTFt"
      },
      "execution_count": null,
      "outputs": []
    },
    {
      "cell_type": "code",
      "source": [
        "# from sklearn.model_selection import train_test_split\n",
        "# X_train, X_test, Y_train, Y_test = train_test_split(X, Y, test_size = 1/3, random_state = 0)"
      ],
      "metadata": {
        "id": "fPTWtX1K90Gy"
      },
      "execution_count": null,
      "outputs": []
    },
    {
      "cell_type": "code",
      "source": [
        "from sklearn.linear_model import LinearRegression\n",
        "regressor = LinearRegression()\n",
        "regressor.fit(X, Y)"
      ],
      "metadata": {
        "colab": {
          "base_uri": "https://localhost:8080/"
        },
        "id": "XintNLtKn5S3",
        "outputId": "61b19b16-7ab3-4e09-bf5b-4ccc2e359688"
      },
      "execution_count": null,
      "outputs": [
        {
          "output_type": "execute_result",
          "data": {
            "text/plain": [
              "LinearRegression()"
            ]
          },
          "metadata": {},
          "execution_count": 7
        }
      ]
    },
    {
      "cell_type": "code",
      "source": [
        "y_pred = regressor.predict(X)"
      ],
      "metadata": {
        "id": "iL1s2YJeohW2"
      },
      "execution_count": null,
      "outputs": []
    },
    {
      "cell_type": "code",
      "source": [
        "plt.scatter(X, Y, color = 'red')\n",
        "plt.plot(X, y_pred , color = 'blue')\n",
        "plt.title('Train set')"
      ],
      "metadata": {
        "colab": {
          "base_uri": "https://localhost:8080/",
          "height": 299
        },
        "id": "lMWSZCAqonXF",
        "outputId": "1dfdaecb-40a8-4bd6-d1d5-c9e75800456a"
      },
      "execution_count": null,
      "outputs": [
        {
          "output_type": "execute_result",
          "data": {
            "text/plain": [
              "Text(0.5, 1.0, 'Train set')"
            ]
          },
          "metadata": {},
          "execution_count": 10
        },
        {
          "output_type": "display_data",
          "data": {
            "image/png": "[encoded data removed]",
            "text/plain": [
              "<Figure size 432x288 with 1 Axes>"
            ]
          },
          "metadata": {
            "needs_background": "light"
          }
        }
      ]
    }
  ]
}