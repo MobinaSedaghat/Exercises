{
  "nbformat": 4,
  "nbformat_minor": 0,
  "metadata": {
    "colab": {
      "provenance": [],
      "authorship_tag": "ABX9TyOFeJGdrK1QsBL0qSzER9RN",
      "include_colab_link": true
    },
    "kernelspec": {
      "name": "python3",
      "display_name": "Python 3"
    },
    "language_info": {
      "name": "python"
    }
  },
  "cells": [
    {
      "cell_type": "markdown",
      "metadata": {
        "id": "view-in-github",
        "colab_type": "text"
      },
      "source": [
        "<a href=\"https://colab.research.google.com/github/MobinaSedaghat/Exercises/blob/main/first_best.ipynb\" target=\"_parent\"><img src=\"https://colab.research.google.com/assets/colab-badge.svg\" alt=\"Open In Colab\"/></a>"
      ]
    },
    {
      "cell_type": "code",
      "execution_count": null,
      "metadata": {
        "id": "6IJKMO_BbWLf"
      },
      "outputs": [],
      "source": [
        "graph = { \"A\" : [\"B\" , \"D\"],\n",
        "          \"B\" : [\"A\", \"C\" , \"D\"],\n",
        "          \"C\" : [\"E\"],\n",
        "          \"D\" : [\"A\", \"C\" , \"E\"],\n",
        "          \"E\" : [],\n",
        "        }\n",
        "weights = {(\"A\" , \"B\") : 3,\n",
        "           (\"A\" , \"D\") : 2,\n",
        "           (\"B\" , \"A\") : 1,\n",
        "           (\"B\" , \"C\") : 2,\n",
        "           (\"B\" , \"D\") : 3,\n",
        "           (\"C\" , \"E\") : 2,\n",
        "           (\"D\" , \"A\") : 1,\n",
        "           (\"D\" , \"C\") : 1,\n",
        "           (\"D\" , \"E\") : 4,\n",
        "           (\"A\" , \"A\") : 0\n",
        "           }\n",
        "heuristics = {\"A\" : 8, \"B\" : 6, \"C\": 3 , \"D\" : 2 , \"E\" : 0 }\n",
        "\n",
        "f = {\"A\":0}"
      ]
    },
    {
      "cell_type": "code",
      "source": [
        "def greedy(start,goal):\n",
        "  frontier = [start]\n",
        "  min = 10\n",
        "  expand = \"\"\n",
        "  root = \"\"\n",
        "  explored = []\n",
        "  while True:\n",
        "    if len(frontier) == 0:\n",
        "      print(\"No solution found!\")\n",
        "      break\n",
        "    else:\n",
        "      for s in frontier:\n",
        "        if heuristics[s] < min and any(s in explored for x in explored) == False:\n",
        "          min = heuristics[s]\n",
        "          expand = s\n",
        "      frontier.extend(graph[expand])\n",
        "      root += expand\n",
        "      if expand != goal:\n",
        "        frontier.remove(expand)\n",
        "        explored.extend(expand)\n",
        "      else:\n",
        "        print(root)\n",
        "        break\n",
        "\n",
        "\n",
        "greedy(\"A\",\"E\")"
      ],
      "metadata": {
        "colab": {
          "base_uri": "https://localhost:8080/"
        },
        "id": "Lp6z851xbdsp",
        "outputId": "5872ac6a-b62e-42e0-b5a6-b1cb823f2768"
      },
      "execution_count": null,
      "outputs": [
        {
          "output_type": "stream",
          "name": "stdout",
          "text": [
            "ADE\n"
          ]
        }
      ]
    },
    {
      "cell_type": "code",
      "source": [
        "def a_star(start,goal):\n",
        "  frontier = [start]\n",
        "  expand = start\n",
        "  root = \"\"\n",
        "  explored = []\n",
        "  while True:\n",
        "    min = 1000\n",
        "    if len(frontier) == 0:\n",
        "      print(\"No solution found!\")\n",
        "      break\n",
        "    else:\n",
        "      for s in frontier:\n",
        "        #print(frontier)\n",
        "        tempfront = []\n",
        "        if f[s] < min and any(s in explored for x in explored) == False:\n",
        "          min = f[s]\n",
        "          expand = s\n",
        "      root += expand\n",
        "      if expand != goal:\n",
        "        tempfront.extend(graph[expand])\n",
        "        frontier.extend(graph[expand])\n",
        "        frontier.remove(expand)\n",
        "        explored.append(expand)\n",
        "      else:\n",
        "        print(root)\n",
        "        break\n",
        "\n",
        "      for i in tempfront:\n",
        "        f[i] =  heuristics[i] + weights[(expand,i)]\n",
        "\n",
        "      expand = \"\"\n",
        "\n",
        "\n",
        "\n",
        "a_star(\"A\", \"E\")"
      ],
      "metadata": {
        "colab": {
          "base_uri": "https://localhost:8080/"
        },
        "id": "X3tOIbD1lh_t",
        "outputId": "e4ef170c-a2bb-4059-c53d-ddf46510281b"
      },
      "execution_count": null,
      "outputs": [
        {
          "output_type": "stream",
          "name": "stdout",
          "text": [
            "ADCE\n"
          ]
        }
      ]
    }
  ]
}