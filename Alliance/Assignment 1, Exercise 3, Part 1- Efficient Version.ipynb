{
 "cells": [
  {
   "cell_type": "code",
   "execution_count": 2,
   "id": "84c805a1",
   "metadata": {},
   "outputs": [],
   "source": [
    "import numpy as np\n",
    "# import time as time"
   ]
  },
  {
   "cell_type": "code",
   "execution_count": 3,
   "id": "804a377b",
   "metadata": {},
   "outputs": [],
   "source": [
    "def TridMult(a, c, e, v):\n",
    "    answer=np.zeros(len(a))\n",
    "    c=np.append(c,0)\n",
    "    v=np.append(v,0)\n",
    "    e=np.append(e,0)\n",
    "    e=np.insert(e,0,0,0)\n",
    "#     tic=time.time()\n",
    "    for i in range(len(a)):\n",
    "        answer[i]=(a[i]*v[i]+c[i]*v[i+1]+e[i]*v[i-1])\n",
    "#     toc=time.time()\n",
    "    print('answer= ', answer)\n",
    "#     print('time= ', toc-tic)"
   ]
  },
  {
   "cell_type": "code",
   "execution_count": null,
   "id": "4859f49b",
   "metadata": {},
   "outputs": [],
   "source": [
    "while True:\n",
    "    a=np.array([int(j) for j in input(\"Enter your a array, for instance: 1,2,3,4,...: \\n\").split(',')])\n",
    "    e=np.array([int(j) for j in input(\"Enter your e array: \\n\").split(',')])\n",
    "    c=np.array([int(j) for j in input(\"Enter your c array: \\n\").split(',')])\n",
    "    v=np.array([int(j) for j in input(\"Enter your v array: \\n\").split(',')])\n",
    "#     a=np.ones(40000000)\n",
    "#     c=np.ones(39999999)\n",
    "#     v=np.ones(40000000)\n",
    "#     e=np.ones(39999999)\n",
    "    if len(a) == len(v) and len(a) == len(e)+1 and len(a) == len(c)+1:\n",
    "        break\n",
    "    else:\n",
    "        print(\"Your given arrays are not valid. Check your input arrays again.\")\n",
    "\n",
    "TridMult(a,c,e,v)"
   ]
  }
 ],
 "metadata": {
  "kernelspec": {
   "display_name": "Python 3",
   "language": "python",
   "name": "python3"
  },
  "language_info": {
   "codemirror_mode": {
    "name": "ipython",
    "version": 3
   },
   "file_extension": ".py",
   "mimetype": "text/x-python",
   "name": "python",
   "nbconvert_exporter": "python",
   "pygments_lexer": "ipython3",
   "version": "3.8.8"
  }
 },
 "nbformat": 4,
 "nbformat_minor": 5
}
