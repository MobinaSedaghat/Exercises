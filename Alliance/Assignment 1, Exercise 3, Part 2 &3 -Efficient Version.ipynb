{
 "cells": [
  {
   "cell_type": "code",
   "execution_count": 1,
   "id": "49739c97",
   "metadata": {},
   "outputs": [],
   "source": [
    "import numpy as np\n",
    "# import time as time"
   ]
  },
  {
   "cell_type": "code",
   "execution_count": 9,
   "id": "09468fe0",
   "metadata": {},
   "outputs": [],
   "source": [
    "def LUdecomp(a,c,e):\n",
    "    beta=np.zeros(len(c))\n",
    "    alpha=np.zeros(len(a))\n",
    "    alpha[0]=a[0]\n",
    "#     tic=time.time()\n",
    "    for i in range (len(e)):\n",
    "        beta[i]=e[i]/alpha[i]\n",
    "        alpha[i+1]=a[i+1]-beta[i]*c[i]\n",
    "#     toc=time.time()\n",
    "    print('alpha= ', alpha, '\\n', 'beta= ', beta)\n",
    "#     print('time= ', toc-tic)"
   ]
  },
  {
   "cell_type": "code",
   "execution_count": null,
   "id": "36b197da",
   "metadata": {},
   "outputs": [],
   "source": [
    "while True:\n",
    "    a=np.array([int(j) for j in input(\"Enter your a array, for instance: 1,2,3,4,...: \\n\").split(',')])\n",
    "    e=np.array([int(j) for j in input(\"Enter your e array: \\n\").split(',')])\n",
    "    c=np.array([int(j) for j in input(\"Enter your c array: \\n\").split(',')])\n",
    "#     a=np.ones(800000)*5\n",
    "#     c=np.ones(799999)*3\n",
    "#     e=np.ones(799999)*4\n",
    "    if len(a) == len(e)+1 and len(a) == len(c)+1:\n",
    "        break\n",
    "    else:\n",
    "        print(\"Your given arrays are not valid. Check your input arrays again.\")\n",
    "\n",
    "\n",
    "LUdecomp(a,c,e)"
   ]
  }
 ],
 "metadata": {
  "kernelspec": {
   "display_name": "Python 3",
   "language": "python",
   "name": "python3"
  },
  "language_info": {
   "codemirror_mode": {
    "name": "ipython",
    "version": 3
   },
   "file_extension": ".py",
   "mimetype": "text/x-python",
   "name": "python",
   "nbconvert_exporter": "python",
   "pygments_lexer": "ipython3",
   "version": "3.8.8"
  }
 },
 "nbformat": 4,
 "nbformat_minor": 5
}
