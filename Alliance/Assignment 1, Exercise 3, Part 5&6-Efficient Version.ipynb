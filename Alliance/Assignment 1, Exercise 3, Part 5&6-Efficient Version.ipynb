{
 "cells": [
  {
   "cell_type": "code",
   "execution_count": 6,
   "id": "71be8abc",
   "metadata": {},
   "outputs": [],
   "source": [
    "import numpy as np\n",
    "# import time as time"
   ]
  },
  {
   "cell_type": "code",
   "execution_count": 7,
   "id": "d58578f1",
   "metadata": {},
   "outputs": [],
   "source": [
    "def Linsolver(alpha, beta, c, B):\n",
    "    y=np.ones(len(B))\n",
    "    y[0]=B[0]\n",
    "#     tic=time.time()\n",
    "    for i in range(len(B)-1):\n",
    "        y[i+1]=B[i+1]-beta[i]*y[i]\n",
    "    print('y=', y)\n",
    "    y=y[::-1]\n",
    "    c=c[::-1]\n",
    "    alpha=alpha[::-1]\n",
    "    x=np.ones(len(B))\n",
    "    x[0]=y[0]/alpha[0]\n",
    "    for i in range(len(y)-1):\n",
    "        x[i+1]=(y[i+1]-c[i]*x[i])/alpha[i+1]\n",
    "    x=x[::-1]\n",
    "#     toc=time.time()\n",
    "    print('x=', x)\n",
    "#     print('time= ', toc-tic)"
   ]
  },
  {
   "cell_type": "code",
   "execution_count": null,
   "id": "5c2bb8bd",
   "metadata": {},
   "outputs": [],
   "source": [
    "while True:\n",
    "    \n",
    "    alpha=np.array([int(j) for j in input(\"Enter your alpha array, for instance: 1,2,3,4,...: \\n\").split(',')])\n",
    "    beta=np.array([int(j) for j in input(\"Enter your beta array: \\n\").split(',')])\n",
    "    c=np.array([int(j) for j in input(\"Enter your c array: \\n\").split(',')])\n",
    "    B=np.array([int(j) for j in input(\"Enter your right-hand-side array, B: \\n\").split(',')])\n",
    "#     alpha=np.ones(20000000)\n",
    "#     beta=np.ones(19999999)\n",
    "#     B=np.ones(20000000)\n",
    "#     c=np.ones(19999999)\n",
    "    if len(alpha) == len(beta)+1 and len(alpha) == len(c)+1 and len(B) == len(alpha):\n",
    "        break\n",
    "    else:\n",
    "        print(\"Your given arrays are not valid. Check your input arrays again.\")\n",
    "\n",
    "Linsolver(alpha, beta, c, B)"
   ]
  }
 ],
 "metadata": {
  "kernelspec": {
   "display_name": "Python 3",
   "language": "python",
   "name": "python3"
  },
  "language_info": {
   "codemirror_mode": {
    "name": "ipython",
    "version": 3
   },
   "file_extension": ".py",
   "mimetype": "text/x-python",
   "name": "python",
   "nbconvert_exporter": "python",
   "pygments_lexer": "ipython3",
   "version": "3.8.8"
  }
 },
 "nbformat": 4,
 "nbformat_minor": 5
}
