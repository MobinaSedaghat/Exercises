{
  "nbformat": 4,
  "nbformat_minor": 0,
  "metadata": {
    "colab": {
      "provenance": [],
      "authorship_tag": "ABX9TyMpG5KpCPJbjbeRZGABi4Z2",
      "include_colab_link": true
    },
    "kernelspec": {
      "name": "python3",
      "display_name": "Python 3"
    },
    "language_info": {
      "name": "python"
    }
  },
  "cells": [
    {
      "cell_type": "markdown",
      "metadata": {
        "id": "view-in-github",
        "colab_type": "text"
      },
      "source": [
        "<a href=\"https://colab.research.google.com/github/MobinaSedaghat/Exercises/blob/main/Exer2.ipynb\" target=\"_parent\"><img src=\"https://colab.research.google.com/assets/colab-badge.svg\" alt=\"Open In Colab\"/></a>"
      ]
    },
    {
      "cell_type": "code",
      "execution_count": null,
      "metadata": {
        "id": "X8WG7muXuqH6"
      },
      "outputs": [],
      "source": [
        "import numpy as np\n",
        "import matplotlib.pyplot as plt\n",
        "import pandas as pd\n",
        "import sklearn.feature_selection\n",
        "from sklearn.linear_model import LinearRegression\n",
        "import statsmodels.api as sma"
      ]
    },
    {
      "cell_type": "code",
      "source": [
        "dataset = pd.read_csv('Carseats.csv')\n",
        "X = dataset.iloc[:, [5 , 9 , 10]].values\n",
        "y = dataset.iloc[: , 0].values\n"
      ],
      "metadata": {
        "id": "uKaldbzSvx4s"
      },
      "execution_count": null,
      "outputs": []
    },
    {
      "cell_type": "code",
      "source": [
        "from sklearn.preprocessing import LabelEncoder\n",
        "le = LabelEncoder()\n",
        "enCol = le.fit_transform(X[: , 1].reshape(len(y),))\n",
        "X[: , 1] = enCol\n",
        "enCol = le.fit_transform(X[: , 2].reshape(len(y),))\n",
        "X[: , 2] = enCol"
      ],
      "metadata": {
        "id": "jaG4QLf6x4eE"
      },
      "execution_count": null,
      "outputs": []
    },
    {
      "cell_type": "code",
      "source": [
        "# from sklearn.linear_model import LinearRegression\n",
        "# regressor = LinearRegression()\n",
        "# regressor.fit(X, y)\n",
        "# print(regressor.coef_)\n",
        "# print(regressor.intercept_)"
      ],
      "metadata": {
        "colab": {
          "base_uri": "https://localhost:8080/"
        },
        "id": "s_8MeIQlqh2q",
        "outputId": "9a6dfe3e-cc59-4ae2-d344-adb6d8d3d511"
      },
      "execution_count": null,
      "outputs": [
        {
          "output_type": "execute_result",
          "data": {
            "text/plain": [
              "LinearRegression()"
            ]
          },
          "metadata": {},
          "execution_count": 8
        }
      ]
    },
    {
      "cell_type": "code",
      "source": [
        "X = np.array(X, dtype=float)\n",
        "X  = sma.add_constant(X)\n",
        "mo  = sma.OLS(y, X)\n",
        "mo = mo.fit()\n",
        "mo.summary()"
      ],
      "metadata": {
        "colab": {
          "base_uri": "https://localhost:8080/",
          "height": 486
        },
        "id": "hJ4cI9D9_kKX",
        "outputId": "3882f67c-de21-4c3c-b66e-8ff93094f62b"
      },
      "execution_count": null,
      "outputs": [
        {
          "output_type": "execute_result",
          "data": {
            "text/html": [
              "<table class=\"simpletable\">\n",
              "<caption>OLS Regression Results</caption>\n",
              "<tr>\n",
              "  <th>Dep. Variable:</th>            <td>y</td>        <th>  R-squared:         </th> <td>   0.239</td>\n",
              "</tr>\n",
              "<tr>\n",
              "  <th>Model:</th>                   <td>OLS</td>       <th>  Adj. R-squared:    </th> <td>   0.234</td>\n",
              "</tr>\n",
              "<tr>\n",
              "  <th>Method:</th>             <td>Least Squares</td>  <th>  F-statistic:       </th> <td>   41.52</td>\n",
              "</tr>\n",
              "<tr>\n",
              "  <th>Date:</th>             <td>Tue, 08 Mar 2022</td> <th>  Prob (F-statistic):</th> <td>2.39e-23</td>\n",
              "</tr>\n",
              "<tr>\n",
              "  <th>Time:</th>                 <td>20:21:08</td>     <th>  Log-Likelihood:    </th> <td> -927.66</td>\n",
              "</tr>\n",
              "<tr>\n",
              "  <th>No. Observations:</th>      <td>   400</td>      <th>  AIC:               </th> <td>   1863.</td>\n",
              "</tr>\n",
              "<tr>\n",
              "  <th>Df Residuals:</th>          <td>   396</td>      <th>  BIC:               </th> <td>   1879.</td>\n",
              "</tr>\n",
              "<tr>\n",
              "  <th>Df Model:</th>              <td>     3</td>      <th>                     </th>     <td> </td>   \n",
              "</tr>\n",
              "<tr>\n",
              "  <th>Covariance Type:</th>      <td>nonrobust</td>    <th>                     </th>     <td> </td>   \n",
              "</tr>\n",
              "</table>\n",
              "<table class=\"simpletable\">\n",
              "<tr>\n",
              "    <td></td>       <th>coef</th>     <th>std err</th>      <th>t</th>      <th>P>|t|</th>  <th>[0.025</th>    <th>0.975]</th>  \n",
              "</tr>\n",
              "<tr>\n",
              "  <th>const</th> <td>   13.0435</td> <td>    0.651</td> <td>   20.036</td> <td> 0.000</td> <td>   11.764</td> <td>   14.323</td>\n",
              "</tr>\n",
              "<tr>\n",
              "  <th>x1</th>    <td>   -0.0545</td> <td>    0.005</td> <td>  -10.389</td> <td> 0.000</td> <td>   -0.065</td> <td>   -0.044</td>\n",
              "</tr>\n",
              "<tr>\n",
              "  <th>x2</th>    <td>   -0.0219</td> <td>    0.272</td> <td>   -0.081</td> <td> 0.936</td> <td>   -0.556</td> <td>    0.512</td>\n",
              "</tr>\n",
              "<tr>\n",
              "  <th>x3</th>    <td>    1.2006</td> <td>    0.259</td> <td>    4.635</td> <td> 0.000</td> <td>    0.691</td> <td>    1.710</td>\n",
              "</tr>\n",
              "</table>\n",
              "<table class=\"simpletable\">\n",
              "<tr>\n",
              "  <th>Omnibus:</th>       <td> 0.676</td> <th>  Durbin-Watson:     </th> <td>   1.912</td>\n",
              "</tr>\n",
              "<tr>\n",
              "  <th>Prob(Omnibus):</th> <td> 0.713</td> <th>  Jarque-Bera (JB):  </th> <td>   0.758</td>\n",
              "</tr>\n",
              "<tr>\n",
              "  <th>Skew:</th>          <td> 0.093</td> <th>  Prob(JB):          </th> <td>   0.684</td>\n",
              "</tr>\n",
              "<tr>\n",
              "  <th>Kurtosis:</th>      <td> 2.897</td> <th>  Cond. No.          </th> <td>    628.</td>\n",
              "</tr>\n",
              "</table><br/><br/>Warnings:<br/>[1] Standard Errors assume that the covariance matrix of the errors is correctly specified."
            ],
            "text/plain": [
              "<class 'statsmodels.iolib.summary.Summary'>\n",
              "\"\"\"\n",
              "                            OLS Regression Results                            \n",
              "==============================================================================\n",
              "Dep. Variable:                      y   R-squared:                       0.239\n",
              "Model:                            OLS   Adj. R-squared:                  0.234\n",
              "Method:                 Least Squares   F-statistic:                     41.52\n",
              "Date:                Tue, 08 Mar 2022   Prob (F-statistic):           2.39e-23\n",
              "Time:                        20:21:08   Log-Likelihood:                -927.66\n",
              "No. Observations:                 400   AIC:                             1863.\n",
              "Df Residuals:                     396   BIC:                             1879.\n",
              "Df Model:                           3                                         \n",
              "Covariance Type:            nonrobust                                         \n",
              "==============================================================================\n",
              "                 coef    std err          t      P>|t|      [0.025      0.975]\n",
              "------------------------------------------------------------------------------\n",
              "const         13.0435      0.651     20.036      0.000      11.764      14.323\n",
              "x1            -0.0545      0.005    -10.389      0.000      -0.065      -0.044\n",
              "x2            -0.0219      0.272     -0.081      0.936      -0.556       0.512\n",
              "x3             1.2006      0.259      4.635      0.000       0.691       1.710\n",
              "==============================================================================\n",
              "Omnibus:                        0.676   Durbin-Watson:                   1.912\n",
              "Prob(Omnibus):                  0.713   Jarque-Bera (JB):                0.758\n",
              "Skew:                           0.093   Prob(JB):                        0.684\n",
              "Kurtosis:                       2.897   Cond. No.                         628.\n",
              "==============================================================================\n",
              "\n",
              "Warnings:\n",
              "[1] Standard Errors assume that the covariance matrix of the errors is correctly specified.\n",
              "\"\"\""
            ]
          },
          "metadata": {},
          "execution_count": 11
        }
      ]
    },
    {
      "cell_type": "markdown",
      "source": [
        "---\n",
        "Sales = 13.043468936764896 + (−0.05) ×Price + (−0.02) × Urban + (1.2) × US + ε\n",
        "\n",
        "---"
      ],
      "metadata": {
        "id": "SCea8khRNeVH"
      }
    },
    {
      "cell_type": "markdown",
      "source": [
        "\n",
        "We can reject the null hypothesis for the “Price” and “US” variables."
      ],
      "metadata": {
        "id": "iTs2TFICS043"
      }
    },
    {
      "cell_type": "code",
      "source": [
        "X = X[:,[1,3]]"
      ],
      "metadata": {
        "id": "po-VQDgSOHQm"
      },
      "execution_count": null,
      "outputs": []
    },
    {
      "cell_type": "code",
      "source": [
        "# from sklearn.linear_model import LinearRegression\n",
        "# regressor = LinearRegression()\n",
        "# regressor.fit(X, y)\n",
        "# print(regressor.coef_)\n",
        "# print(regressor.intercept_)"
      ],
      "metadata": {
        "colab": {
          "base_uri": "https://localhost:8080/"
        },
        "id": "yyamBtYvOVjN",
        "outputId": "8e1ccf59-cc84-4745-89de-07b077b8a0dc"
      },
      "execution_count": null,
      "outputs": [
        {
          "output_type": "execute_result",
          "data": {
            "text/plain": [
              "LinearRegression()"
            ]
          },
          "metadata": {},
          "execution_count": 13
        }
      ]
    },
    {
      "cell_type": "code",
      "source": [
        "X = np.array(X, dtype=float)\n",
        "X  = sma.add_constant(X)\n",
        "mo  = sma.OLS(y, X)\n",
        "mo = mo.fit()\n",
        "print(mo.conf_int(alpha=0.05, cols=None))\n",
        "mo.summary()"
      ],
      "metadata": {
        "colab": {
          "base_uri": "https://localhost:8080/",
          "height": 519
        },
        "id": "RBdg19vWOlY6",
        "outputId": "0eb99bcd-7801-48d7-fbdc-3e09cde28864"
      },
      "execution_count": null,
      "outputs": [
        {
          "output_type": "stream",
          "name": "stdout",
          "text": [
            "[[11.7903202  14.27126531]\n",
            " [-0.06475984 -0.04419543]\n",
            " [ 0.69151957  1.70776632]]\n"
          ]
        },
        {
          "output_type": "execute_result",
          "data": {
            "text/html": [
              "<table class=\"simpletable\">\n",
              "<caption>OLS Regression Results</caption>\n",
              "<tr>\n",
              "  <th>Dep. Variable:</th>            <td>y</td>        <th>  R-squared:         </th> <td>   0.239</td>\n",
              "</tr>\n",
              "<tr>\n",
              "  <th>Model:</th>                   <td>OLS</td>       <th>  Adj. R-squared:    </th> <td>   0.235</td>\n",
              "</tr>\n",
              "<tr>\n",
              "  <th>Method:</th>             <td>Least Squares</td>  <th>  F-statistic:       </th> <td>   62.43</td>\n",
              "</tr>\n",
              "<tr>\n",
              "  <th>Date:</th>             <td>Tue, 08 Mar 2022</td> <th>  Prob (F-statistic):</th> <td>2.66e-24</td>\n",
              "</tr>\n",
              "<tr>\n",
              "  <th>Time:</th>                 <td>20:25:16</td>     <th>  Log-Likelihood:    </th> <td> -927.66</td>\n",
              "</tr>\n",
              "<tr>\n",
              "  <th>No. Observations:</th>      <td>   400</td>      <th>  AIC:               </th> <td>   1861.</td>\n",
              "</tr>\n",
              "<tr>\n",
              "  <th>Df Residuals:</th>          <td>   397</td>      <th>  BIC:               </th> <td>   1873.</td>\n",
              "</tr>\n",
              "<tr>\n",
              "  <th>Df Model:</th>              <td>     2</td>      <th>                     </th>     <td> </td>   \n",
              "</tr>\n",
              "<tr>\n",
              "  <th>Covariance Type:</th>      <td>nonrobust</td>    <th>                     </th>     <td> </td>   \n",
              "</tr>\n",
              "</table>\n",
              "<table class=\"simpletable\">\n",
              "<tr>\n",
              "    <td></td>       <th>coef</th>     <th>std err</th>      <th>t</th>      <th>P>|t|</th>  <th>[0.025</th>    <th>0.975]</th>  \n",
              "</tr>\n",
              "<tr>\n",
              "  <th>const</th> <td>   13.0308</td> <td>    0.631</td> <td>   20.652</td> <td> 0.000</td> <td>   11.790</td> <td>   14.271</td>\n",
              "</tr>\n",
              "<tr>\n",
              "  <th>x1</th>    <td>   -0.0545</td> <td>    0.005</td> <td>  -10.416</td> <td> 0.000</td> <td>   -0.065</td> <td>   -0.044</td>\n",
              "</tr>\n",
              "<tr>\n",
              "  <th>x2</th>    <td>    1.1996</td> <td>    0.258</td> <td>    4.641</td> <td> 0.000</td> <td>    0.692</td> <td>    1.708</td>\n",
              "</tr>\n",
              "</table>\n",
              "<table class=\"simpletable\">\n",
              "<tr>\n",
              "  <th>Omnibus:</th>       <td> 0.666</td> <th>  Durbin-Watson:     </th> <td>   1.912</td>\n",
              "</tr>\n",
              "<tr>\n",
              "  <th>Prob(Omnibus):</th> <td> 0.717</td> <th>  Jarque-Bera (JB):  </th> <td>   0.749</td>\n",
              "</tr>\n",
              "<tr>\n",
              "  <th>Skew:</th>          <td> 0.092</td> <th>  Prob(JB):          </th> <td>   0.688</td>\n",
              "</tr>\n",
              "<tr>\n",
              "  <th>Kurtosis:</th>      <td> 2.895</td> <th>  Cond. No.          </th> <td>    607.</td>\n",
              "</tr>\n",
              "</table><br/><br/>Warnings:<br/>[1] Standard Errors assume that the covariance matrix of the errors is correctly specified."
            ],
            "text/plain": [
              "<class 'statsmodels.iolib.summary.Summary'>\n",
              "\"\"\"\n",
              "                            OLS Regression Results                            \n",
              "==============================================================================\n",
              "Dep. Variable:                      y   R-squared:                       0.239\n",
              "Model:                            OLS   Adj. R-squared:                  0.235\n",
              "Method:                 Least Squares   F-statistic:                     62.43\n",
              "Date:                Tue, 08 Mar 2022   Prob (F-statistic):           2.66e-24\n",
              "Time:                        20:25:16   Log-Likelihood:                -927.66\n",
              "No. Observations:                 400   AIC:                             1861.\n",
              "Df Residuals:                     397   BIC:                             1873.\n",
              "Df Model:                           2                                         \n",
              "Covariance Type:            nonrobust                                         \n",
              "==============================================================================\n",
              "                 coef    std err          t      P>|t|      [0.025      0.975]\n",
              "------------------------------------------------------------------------------\n",
              "const         13.0308      0.631     20.652      0.000      11.790      14.271\n",
              "x1            -0.0545      0.005    -10.416      0.000      -0.065      -0.044\n",
              "x2             1.1996      0.258      4.641      0.000       0.692       1.708\n",
              "==============================================================================\n",
              "Omnibus:                        0.666   Durbin-Watson:                   1.912\n",
              "Prob(Omnibus):                  0.717   Jarque-Bera (JB):                0.749\n",
              "Skew:                           0.092   Prob(JB):                        0.688\n",
              "Kurtosis:                       2.895   Cond. No.                         607.\n",
              "==============================================================================\n",
              "\n",
              "Warnings:\n",
              "[1] Standard Errors assume that the covariance matrix of the errors is correctly specified.\n",
              "\"\"\""
            ]
          },
          "metadata": {},
          "execution_count": 22
        }
      ]
    },
    {
      "cell_type": "markdown",
      "source": [
        "---\n",
        "Sales = 13.030792754615764 + -0.05 × Price + 1.2 × US + ε\n",
        "\n",
        "---"
      ],
      "metadata": {
        "id": "h8Y0xkruTIBN"
      }
    },
    {
      "cell_type": "code",
      "source": [
        "y_pred2 = mo.predict(X)"
      ],
      "metadata": {
        "id": "esFOI0QtOEjZ"
      },
      "execution_count": null,
      "outputs": []
    },
    {
      "cell_type": "code",
      "source": [
        "factor = 3\n",
        "upper_lim = y_pred2.mean () + y_pred2.std () * factor\n",
        "lower_lim = y_pred2.mean () - y_pred2.std () * factor\n",
        "print(y_pred2[(y_pred2 > upper_lim) | (y_pred2 < lower_lim)])\n",
        "y_pred2 = y_pred2[(y_pred2 < upper_lim) & (y_pred2 > lower_lim)]"
      ],
      "metadata": {
        "colab": {
          "base_uri": "https://localhost:8080/"
        },
        "id": "OwuPAJJDe3_p",
        "outputId": "091d327d-3938-4506-d54c-277618a77267"
      },
      "execution_count": null,
      "outputs": [
        {
          "output_type": "stream",
          "name": "stdout",
          "text": [
            "[11.72332958  2.95243075]\n"
          ]
        }
      ]
    }
  ]
}